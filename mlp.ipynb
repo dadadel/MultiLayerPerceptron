{
 "cells": [
  {
   "cell_type": "code",
   "execution_count": 1,
   "metadata": {},
   "outputs": [
    {
     "name": "stdout",
     "output_type": "stream",
     "text": [
      "{'i': {'count': 75, 'index': 4, 'vector': [0, 0, 0, 0, 1, 0, 0, 0, 0, 0, 0, 0]}, 'a': {'count': 36, 'index': 6, 'vector': [0, 0, 0, 0, 0, 0, 1, 0, 0, 0, 0, 0]}, 'd': {'count': 45, 'index': 5, 'vector': [0, 0, 0, 0, 0, 1, 0, 0, 0, 0, 0, 0]}, 'l': {'count': 64, 'index': 0, 'vector': [1, 0, 0, 0, 0, 0, 0, 0, 0, 0, 0, 0]}, 't': {'count': 64, 'index': 2, 'vector': [0, 0, 1, 0, 0, 0, 0, 0, 0, 0, 0, 0]}, 'n': {'count': 75, 'index': 7, 'vector': [0, 0, 0, 0, 0, 0, 0, 1, 0, 0, 0, 0]}, 'c': {'count': 30, 'index': 8, 'vector': [0, 0, 0, 0, 0, 0, 0, 0, 1, 0, 0, 0]}, 'e': {'count': 117, 'index': 1, 'vector': [0, 1, 0, 0, 0, 0, 0, 0, 0, 0, 0, 0]}, 's': {'count': 40, 'index': 9, 'vector': [0, 0, 0, 0, 0, 0, 0, 0, 0, 1, 0, 0]}, 'u': {'count': 55, 'index': 3, 'vector': [0, 0, 0, 1, 0, 0, 0, 0, 0, 0, 0, 0]}, 'r': {'count': 42, 'index': 10, 'vector': [0, 0, 0, 0, 0, 0, 0, 0, 0, 0, 1, 0]}, 'o': {'count': 39, 'index': 11, 'vector': [0, 0, 0, 0, 0, 0, 0, 0, 0, 0, 0, 1]}}\n",
      "12\n",
      "1\n",
      "number of batches=1\n",
      "size of first batch=577,577\n",
      "size of last batch=577,577\n",
      "300 9\n"
     ]
    }
   ],
   "source": [
    "from letters import LettersData\n",
    "data = LettersData(\"data/\", \"list_expected_data.txt\")\n",
    "data.process()\n",
    "#x,y = data.get_data()\n",
    "#classes = data.get_classes()\n",
    "#ysize = data.get_class_element_size()\n",
    "#xsize = data.get_input_image_size()\n",
    "#print(len(classes))\n",
    "#print(len(classes['P']))\n",
    "#print(xsize,ysize)\n",
    "#print(len(x))\n",
    "#print(len(y))\n",
    "#print(y[5])\n",
    "#print(data.get_vocab())\n",
    "v=data.get_vocab_with_min_count(30)\n",
    "print(v)\n",
    "print(len(v))\n",
    "batch = data.get_batches()\n",
    "print(len(batch))\n",
    "batch = data.get_batches(min_count=40, mini_batch_size=577)\n",
    "print(\"number of batches={}\".format(len(batch)))\n",
    "print(\"size of first batch={},{}\".format(len(batch[0][0]),len(batch[0][1])))\n",
    "print(\"size of last batch={},{}\".format(len(batch[-1][0]),len(batch[-1][1])))\n",
    "xsize = len(batch[0][0][0])\n",
    "ysize = len(batch[0][1][0])\n",
    "print(xsize, ysize)"
   ]
  },
  {
   "cell_type": "code",
   "execution_count": 2,
   "metadata": {},
   "outputs": [
    {
     "name": "stdout",
     "output_type": "stream",
     "text": [
      "[[0 2 4 6 9]\n",
      " [1 3 5 7 8]]\n",
      "[[0 0 0 0 1]\n",
      " [1 1 1 1 0]]\n",
      "[[11  2 13  4]\n",
      " [ 5  6  7  8]]\n",
      "[[1 0 1 0]\n",
      " [0 1 0 1]]\n",
      "1\n"
     ]
    }
   ],
   "source": [
    "import numpy as np\n",
    "\n",
    "def output_to_hard(output):\n",
    "    m = output.shape[1]\n",
    "    hard = np.zeros_like(output)\n",
    "    hard[output.argmax(0), np.arange(m)] = 1\n",
    "    return hard\n",
    "\n",
    "\n",
    "def count_errors(output, expected_output):\n",
    "    \"\"\"Count the number of patterns different assuming dimension (n, m)\n",
    "    having m patterns of size n\n",
    "    \"\"\"\n",
    "    # check differences\n",
    "    err = np.equal(output,expected_output)\n",
    "    # invert such as true means not equal\n",
    "    ierr = np.invert(err)\n",
    "    # count number of bad values for each column\n",
    "    nb = np.count_nonzero(ierr, axis=0)\n",
    "    # count number of errors\n",
    "    nb_err = np.count_nonzero(nb)\n",
    "    return nb_err\n",
    "        \n",
    "\n",
    "\n",
    "a = np.array([[0, 1], [2, 3], [4, 5], [6, 7], [9, 8]]).T\n",
    "print(a)\n",
    "print(output_to_hard(a))\n",
    "a = np.array([[11,2,13,4],[5,6,7,8]])\n",
    "print(a)\n",
    "b = np.array([[1, 0, 1, 0], [1, 1, 0, 1]])\n",
    "h = output_to_hard(a)\n",
    "print(h)\n",
    "\n",
    "print(count_errors(h, b))\n"
   ]
  },
  {
   "cell_type": "code",
   "execution_count": 3,
   "metadata": {},
   "outputs": [
    {
     "name": "stdout",
     "output_type": "stream",
     "text": [
      "[0. 3.]\n",
      "False\n",
      "True\n"
     ]
    }
   ],
   "source": [
    "def all_axis_equal(n, axis=0):\n",
    "    \"\"\"\n",
    "    :param axis: if 0 check that all columns are equal, if 1 chech rows\n",
    "    \"\"\"\n",
    "    if axis == 0:\n",
    "        res = np.std(n, axis=1)\n",
    "    else:\n",
    "        res = np.std(n)\n",
    "    res = np.sum(res)\n",
    "    return res == 0.\n",
    "\n",
    "\n",
    "def axis_equal(n, axis=0):\n",
    "    \"\"\"\n",
    "    :param axis: if 0 check that all columns are equal, if 1 chech rows\n",
    "    \"\"\"\n",
    "    if axis == 0:\n",
    "        res = np.std(n, axis=1)\n",
    "    else:\n",
    "        res = np.std(n)\n",
    "    return res\n",
    "\n",
    "\n",
    "a=np.array([[1,-2,3,4],[5,6,-7,8]])\n",
    "all_axis_equal(a)\n",
    "a=np.array([[1,-2,3,4],[1,6,-7,8]])\n",
    "all_axis_equal(a) \n",
    "\n",
    "a = np.array([[-1., -1.], [-3., 3]])\n",
    "print(np.std(a,axis=1))\n",
    "\n",
    "b=np.array([[-2,-2,-2],[5,6,-7]])\n",
    "print(all_axis_equal(b))\n",
    "b=np.array([[-2,-2,-2],[5,5,5]])\n",
    "print(all_axis_equal(b))"
   ]
  },
  {
   "cell_type": "code",
   "execution_count": 5,
   "metadata": {},
   "outputs": [
    {
     "name": "stdout",
     "output_type": "stream",
     "text": [
      "[0, 0, 0, 0, 0, 0, 0, 0, 1]\n",
      "tanh factor=0.05773502691896258\n",
      "tanh factor=0.023570226039551584\n",
      "tanh factor=0.040824829046386304\n",
      "tanh factor=0.05773502691896258\n",
      "softmax factor=0.01\n",
      "nb errors before training=561/577\n",
      "Training...\n"
     ]
    },
    {
     "data": {
      "image/png": "[encoded data removed]",
      "text/plain": [
       "<matplotlib.figure.Figure at 0x7f00f24c2710>"
      ]
     },
     "metadata": {},
     "output_type": "display_data"
    },
    {
     "name": "stdout",
     "output_type": "stream",
     "text": [
      "learning duration=311.9925892353058(s)\n",
      "{'iterations': 400, 'cost_function': 0.01926710779513728}\n",
      "nb errors=0/577\n"
     ]
    }
   ],
   "source": [
    "from mlp import MultiLayerPerceptron\n",
    "import time\n",
    "import numpy as np\n",
    "X, Y = np.array(batch[0][0]), np.array(batch[0][1])\n",
    "xsize = len(batch[0][0][0])\n",
    "ysize = len(batch[0][1][0])\n",
    "print(batch[0][1][0])\n",
    "m = len(batch[0][0])\n",
    "mlp = MultiLayerPerceptron(L=5, n=[xsize, 1800, 600, 300, 30, ysize], g=[\"tanh\"]*4 + [\"softmax\"], alpha=0.001, set_random_w=False)# w_rand_factor=0.01)\n",
    "mlp.init_random_weights(use_formula=True)\n",
    "#mlp.use_regularization(0.1)\n",
    "mlp.use_adam()\n",
    "\n",
    "# Compute output\n",
    "output = mlp.compute_outputs(X.T)\n",
    "hard_output = output_to_hard(output)\n",
    "mlp.set_all_expected_output_examples(Y.T)\n",
    "expected_output = mlp.get_expected_output()\n",
    "print(\"nb errors before training={}/{}\".format(count_errors(hard_output, expected_output), output.shape[1]))\n",
    "\n",
    "# Proceed learning with gradient descent\n",
    "print(\"Training...\")\n",
    "t0 = time.time()\n",
    "res = mlp.learning(X.T, Y.T, m, min_cost=0.005, max_iter=400, plot=True)\n",
    "t1 = time.time()\n",
    "print(\"learning duration={}(s)\".format(t1-t0))\n",
    "print(res)\n",
    "\n",
    "output = mlp.get_output()\n",
    "hard_output = output_to_hard(output)\n",
    "expected_output = mlp.get_expected_output()\n",
    "print(\"nb errors={}/{}\".format(count_errors(hard_output, expected_output), output.shape[1]))\n"
   ]
  },
  {
   "cell_type": "code",
   "execution_count": 6,
   "metadata": {},
   "outputs": [
    {
     "name": "stdout",
     "output_type": "stream",
     "text": [
      "[[0 1 0 ... 0 0 0]\n",
      " [0 0 0 ... 0 0 0]\n",
      " [1 0 0 ... 1 0 0]\n",
      " ...\n",
      " [0 0 0 ... 0 1 0]\n",
      " [0 0 0 ... 0 0 1]\n",
      " [0 0 0 ... 0 0 0]]\n",
      "out=[[1.20974679e-03 9.94810203e-01 1.81144828e-03 ... 1.21511565e-03\n",
      "  9.06859226e-04 1.31348417e-04]\n",
      " [1.89512803e-03 2.11689863e-04 7.43912078e-05 ... 1.89605227e-03\n",
      "  5.79609227e-03 3.18173844e-04]\n",
      " [9.81964661e-01 6.98882514e-04 3.10199130e-06 ... 9.81971394e-01\n",
      "  8.67877832e-04 5.21368855e-06]\n",
      " ...\n",
      " [1.15257668e-03 7.73124214e-04 4.52359346e-05 ... 1.15608559e-03\n",
      "  9.75057094e-01 1.49883192e-05]\n",
      " [8.41201862e-06 8.08946746e-05 1.13639649e-02 ... 8.41791178e-06\n",
      "  9.76566627e-06 9.80475500e-01]\n",
      " [8.87554173e-05 3.38173023e-05 2.15643124e-03 ... 8.91617413e-05\n",
      "  2.32828424e-05 3.03532518e-03]]\n",
      "alleq? = False\n",
      "eq? = [0.39963611 0.31029355 0.25476702 0.3301145  0.25201999 0.30368108\n",
      " 0.32692957 0.28733344 0.26546751]\n",
      "hout=[[0. 1. 0. ... 0. 0. 0.]\n",
      " [0. 0. 0. ... 0. 0. 0.]\n",
      " [1. 0. 0. ... 1. 0. 0.]\n",
      " ...\n",
      " [0. 0. 0. ... 0. 1. 0.]\n",
      " [0. 0. 0. ... 0. 0. 1.]\n",
      " [0. 0. 0. ... 0. 0. 0.]]\n",
      "alleq? = False\n",
      "expout=[[0 1 0 ... 0 0 0]\n",
      " [0 0 0 ... 0 0 0]\n",
      " [1 0 0 ... 1 0 0]\n",
      " ...\n",
      " [0 0 0 ... 0 1 0]\n",
      " [0 0 0 ... 0 0 1]\n",
      " [0 0 0 ... 0 0 0]]\n",
      "nb errors=0\n",
      "ieq? = [0.         0.         0.         0.         0.04159445 0.04159445\n",
      " 0.         0.04159445 0.05877236 0.         0.         0.\n",
      " 0.         0.         0.         0.         0.05877236 0.14840052\n",
      " 0.05877236 0.12391378 0.15912484 0.10947391 0.         0.\n",
      " 0.         0.         0.         0.         0.1996606  0.30524256\n",
      " 0.17384666 0.15912484 0.21848089 0.18292235 0.         0.\n",
      " 0.         0.         0.         0.         0.25400445 0.34916742\n",
      " 0.24497509 0.15386591 0.25400445 0.23548517 0.         0.\n",
      " 0.         0.         0.         0.         0.22201304 0.36283563\n",
      " 0.29365729 0.11692983 0.26540807 0.26262075 0.         0.\n",
      " 0.         0.         0.         0.         0.17845063 0.32849489\n",
      " 0.30298078 0.10144201 0.26540807 0.26540807 0.         0.\n",
      " 0.         0.05877236 0.04159445 0.04159445 0.17845063 0.34738218\n",
      " 0.31403124 0.15912484 0.27086342 0.26540807 0.         0.\n",
      " 0.         0.14270495 0.17384666 0.21848089 0.36283563 0.46536942\n",
      " 0.44766404 0.35613459 0.32243155 0.27086342 0.         0.\n",
      " 0.         0.25692035 0.32447451 0.42867576 0.4758936  0.49479993\n",
      " 0.48113491 0.4758936  0.43766237 0.30968748 0.         0.\n",
      " 0.         0.34191784 0.42971151 0.49772331 0.49966874 0.49945229\n",
      " 0.48113491 0.49401623 0.48304144 0.39947913 0.         0.\n",
      " 0.04159445 0.38438942 0.48395465 0.4981938  0.49918159 0.49978294\n",
      " 0.46932204 0.4844013  0.49772331 0.44142084 0.         0.\n",
      " 0.10144201 0.37549571 0.49681727 0.49719801 0.49804305 0.49772331\n",
      " 0.43474966 0.39005198 0.49479993 0.45429764 0.         0.\n",
      " 0.13050156 0.37241944 0.49945229 0.49936808 0.47963429 0.49620022\n",
      " 0.43474966 0.36609093 0.47963429 0.45104631 0.04159445 0.\n",
      " 0.13050156 0.36928501 0.49993917 0.49598225 0.44592287 0.49317647\n",
      " 0.43474966 0.34191784 0.46995521 0.45104631 0.04159445 0.\n",
      " 0.05877236 0.33436749 0.49873612 0.49873612 0.45818189 0.48888231\n",
      " 0.43276226 0.36769552 0.47533153 0.45021313 0.04159445 0.\n",
      " 0.         0.29125401 0.49031788 0.49966874 0.49978294 0.49945229\n",
      " 0.47301311 0.45968067 0.48612205 0.44937172 0.13675044 0.\n",
      " 0.         0.22547654 0.42657558 0.49132761 0.49788622 0.49993917\n",
      " 0.48527482 0.46671642 0.45104631 0.4189163  0.17384666 0.\n",
      " 0.         0.11692983 0.31403124 0.43376056 0.45893516 0.46671642\n",
      " 0.43474966 0.37549571 0.34005922 0.33243052 0.07191852 0.\n",
      " 0.         0.04159445 0.15386591 0.23870299 0.31403124 0.35441835\n",
      " 0.33243052 0.22201304 0.21487672 0.20359342 0.04159445 0.\n",
      " 0.         0.04159445 0.04159445 0.04159445 0.05877236 0.08297199\n",
      " 0.07191852 0.         0.         0.         0.         0.\n",
      " 0.         0.04159445 0.04159445 0.04159445 0.         0.\n",
      " 0.         0.         0.         0.         0.         0.\n",
      " 0.         0.04159445 0.04159445 0.04159445 0.         0.\n",
      " 0.         0.         0.         0.         0.         0.\n",
      " 0.         0.         0.         0.         0.         0.\n",
      " 0.         0.         0.         0.         0.         0.\n",
      " 0.         0.         0.         0.         0.         0.\n",
      " 0.         0.         0.         0.         0.         0.\n",
      " 0.         0.         0.         0.04159445 0.04159445 0.04159445\n",
      " 0.         0.         0.         0.         0.         0.        ]\n",
      "i? = [[0 0 0 ... 0 0 0]\n",
      " [0 0 0 ... 0 0 0]\n",
      " [0 0 0 ... 0 0 0]\n",
      " ...\n",
      " [0 0 0 ... 0 0 0]\n",
      " [0 0 0 ... 0 0 0]\n",
      " [0 0 0 ... 0 0 0]]\n",
      "diff exp= [117  64  42  75  40  64  75  55  45]\n",
      "[[-0.01319087  0.03983991 -0.05525597 ... -0.03207711  0.06692414\n",
      "  -0.06375975]\n",
      " [ 0.03026753  0.01874685  0.00903375 ...  0.01605231 -0.08379402\n",
      "   0.04562931]\n",
      " [ 0.04805276  0.05503196 -0.00389218 ...  0.0183783   0.01674333\n",
      "   0.02185625]\n",
      " ...\n",
      " [ 0.02624143  0.03224954 -0.00911125 ... -0.08354134  0.03582595\n",
      "   0.05569943]\n",
      " [-0.02090887 -0.09105613 -0.09100615 ... -0.01404412  0.03874845\n",
      "  -0.06491289]\n",
      " [-0.01343145 -0.03273509  0.08220062 ... -0.03275636 -0.00326426\n",
      "  -0.03555161]]\n",
      "float64\n",
      "[[-0.01420414 -0.07207896  0.05688704 ...  0.01537264  0.0084524\n",
      "  -0.03883495]\n",
      " [-0.02508493  0.05414954 -0.03563722 ... -0.0120563   0.02642832\n",
      "   0.00609925]\n",
      " [ 0.02473474 -0.05099813  0.07484969 ...  0.04273742  0.02562809\n",
      "  -0.07692152]\n",
      " ...\n",
      " [-0.03358954 -0.01829128 -0.00578833 ...  0.01829952  0.04571721\n",
      "   0.0090804 ]\n",
      " [-0.02371952 -0.0468924  -0.00054122 ... -0.07090847 -0.10107239\n",
      "   0.05067513]\n",
      " [ 0.06595318 -0.01398758  0.05028443 ...  0.05333875  0.04927292\n",
      "  -0.02119925]]\n",
      "float64\n",
      "[[-8.55127946e-05 -7.84591675e-02 -8.40214908e-02 ...  3.15381766e-02\n",
      "  -1.12010893e-01 -3.72282552e-02]\n",
      " [-4.90402044e-02  1.05809792e-01  4.49151540e-02 ...  1.60301369e-02\n",
      "   1.08550765e-02  4.97082262e-02]\n",
      " [-3.14740462e-03 -5.69982483e-02  6.10231506e-02 ... -9.82526432e-03\n",
      "  -1.00127875e-02 -2.95810917e-02]\n",
      " ...\n",
      " [ 7.44480556e-02 -8.96343933e-02  8.58785577e-02 ...  8.83387786e-02\n",
      "   1.47955664e-02  3.44082262e-02]\n",
      " [-2.24684582e-02 -4.73644174e-02  1.19620978e-02 ...  1.70987684e-02\n",
      "   3.50440139e-02 -4.66940708e-02]\n",
      " [ 3.09912631e-03 -6.89806131e-03 -7.89365570e-03 ... -3.30881538e-02\n",
      "   2.85286642e-02 -1.70303674e-02]]\n",
      "float64\n",
      "[[ 0.24292825  0.03875353 -0.04838829 ...  0.0454464   0.02616454\n",
      "   0.07085865]\n",
      " [-0.14605033 -0.10255992 -0.0691534  ... -0.14221534  0.05441646\n",
      "   0.14363908]\n",
      " [ 0.01758933 -0.09676504 -0.07188088 ...  0.01573355 -0.0923651\n",
      "   0.04113277]\n",
      " ...\n",
      " [ 0.0312834  -0.10207391  0.04388697 ... -0.07270399  0.09358967\n",
      "   0.09282296]\n",
      " [-0.06778366 -0.08155462  0.07426104 ...  0.00879056  0.00224737\n",
      "  -0.04201017]\n",
      " [-0.01397604  0.0525786   0.10673341 ... -0.09476817  0.04172221\n",
      "  -0.01653008]]\n",
      "float64\n",
      "[[ 0.23821056 -0.22684595 -0.23900313 -0.22307994 -0.20820359  0.21907111\n",
      "   0.2448129   0.24406478 -0.22086667  0.23578465  0.23068728  0.21603837\n",
      "  -0.22015416  0.2273947  -0.23359408  0.24316205 -0.22599274  0.2448828\n",
      "  -0.24577126 -0.24073814  0.23409303 -0.23673416 -0.23429848  0.23798849\n",
      "   0.23932448  0.21756492  0.24914489 -0.22336549 -0.23481061  0.22419405]\n",
      " [-0.27508135  0.32318242 -0.19603446 -0.17095617  0.28092267 -0.22193898\n",
      "   0.2064782   0.21149604  0.24927926 -0.18680937  0.18140982 -0.39328247\n",
      "   0.19041642  0.29306423  0.18480645 -0.16989218  0.17698483  0.22529679\n",
      "   0.28864704  0.29179007  0.18312231  0.11926081  0.19092834 -0.36227006\n",
      "   0.20152464 -0.36845687  0.21825649 -0.18537252 -0.17231761  0.30279298]\n",
      " [ 0.46419226 -0.29144274 -0.21979831 -0.05094548 -0.31265563  0.47694825\n",
      "   0.21698027  0.20500537 -0.3472583  -0.23602106  0.22101996 -0.48007579\n",
      "   0.26360475 -0.3382583   0.28820103 -0.23432914  0.22947567 -0.32274213\n",
      "   0.29304505 -0.33211153  0.04733828  0.29491651  0.23421252  0.31340982\n",
      "   0.20929533 -0.42883819  0.19781346 -0.04543647 -0.04600597 -0.33294682]\n",
      " [-0.31456648  0.20993413  0.19555102  0.20091824 -0.34795958  0.26313773\n",
      "  -0.19932059 -0.17993067 -0.52906611  0.1240308  -0.20147313  0.24848163\n",
      "  -0.10781514  0.40899696 -0.25332736  0.12730197 -0.12683918  0.1279312\n",
      "  -0.33570855  0.19567551 -0.20399474 -0.27108015 -0.11943421 -0.18252667\n",
      "  -0.1943781   0.27768788 -0.1779427   0.20619189  0.19658291  0.24801077]\n",
      " [ 0.28003775 -0.24656041  0.28472025 -0.25652722 -0.2377857  -0.23329018\n",
      "  -0.27871007 -0.27570175  0.26014691 -0.22671371 -0.29918768  0.24169636\n",
      "  -0.28768855 -0.26286965 -0.31427227 -0.23271245  0.22844887 -0.24899349\n",
      "  -0.27570961 -0.25358862  0.25124158  0.2363703   0.21089628  0.23576767\n",
      "  -0.26226596  0.26027226 -0.28453235 -0.22935687 -0.24720796 -0.22933093]\n",
      " [-0.48565335 -0.2465881  -0.25622676 -0.04974842 -0.58824049 -0.4359546\n",
      "   0.26816899  0.27414157  0.43796671 -0.15452496  0.24515537  0.48205664\n",
      "   0.25450998 -0.54418601  0.26754159 -0.16829142  0.16721371 -0.23252322\n",
      "   0.50158931 -0.56668704  0.04247801  0.15834625  0.1594734   0.24067279\n",
      "   0.2675666   0.48407097  0.25866951 -0.02778181 -0.04470741 -0.27621571]\n",
      " [-0.27267255 -0.45886523 -0.17510706 -0.10178899  0.53651062 -0.22984801\n",
      "   0.17242844  0.18302742  0.24916311 -0.15973133  0.16812989  0.42202693\n",
      "   0.20222694  0.57612452  0.20409242 -0.18444391  0.18391435 -0.41807628\n",
      "  -0.14789935  0.52621514  0.1074553   0.20447943  0.15627734  0.44518614\n",
      "   0.18899705  0.43286293  0.18514295 -0.09809536 -0.08563168 -0.41710236]\n",
      " [-0.37013803  0.1514176   0.14143475  0.14731253  0.59306704  0.37691993\n",
      "  -0.14372632 -0.14582787  0.35884516  0.1232747  -0.16096911 -0.6223161\n",
      "  -0.10444428 -0.58816294 -0.36665509  0.13995272 -0.16113298  0.1199828\n",
      "   0.26052948  0.15022914 -0.16074082 -0.36866975 -0.16849907 -0.15080841\n",
      "  -0.14371455  0.34354818 -0.14782671  0.15418654  0.15257981  0.35531016]\n",
      " [ 0.35711621  0.17086082  0.16602409  0.18400076  0.33281758 -0.34217298\n",
      "  -0.1747656  -0.17333453 -0.36443979  0.19588652 -0.19034869 -0.33569957\n",
      "  -0.1910823  -0.36717338  0.37378397  0.17310205 -0.16627789  0.13600294\n",
      "  -0.30896351  0.19230081 -0.18328413  0.38301521 -0.16365957 -0.16838064\n",
      "  -0.17065042 -0.35753259 -0.15901984  0.18156503  0.16853124 -0.35185653]]\n",
      "float64\n",
      "[1800, 600, 300, 30, 9]\n"
     ]
    }
   ],
   "source": [
    "print(mlp.get_expected_output())\n",
    "o = mlp.get_output()#[:,:5]\n",
    "print(\"out={}\".format(o))\n",
    "print(\"alleq? =\",all_axis_equal(o))\n",
    "print(\"eq? =\",axis_equal(o))\n",
    "h = output_to_hard(o)\n",
    "print(\"hout={}\".format(h))\n",
    "print(\"alleq? =\",all_axis_equal(h))\n",
    "e = mlp.get_expected_output()#[:,:5]\n",
    "print(\"expout={}\".format(e))\n",
    "print(\"nb errors={}\".format(count_errors(h, e)))\n",
    "#print(mlp.get_weights())\n",
    "i = mlp.get_input()\n",
    "print(\"ieq? =\",axis_equal(i))\n",
    "print(\"i? =\",i)\n",
    "print(\"diff exp=\", np.sum(e,axis=1))\n",
    "W=mlp.get_weights()\n",
    "ln=[]\n",
    "for w in W:\n",
    "    print(w)\n",
    "    ln.append(len(w))\n",
    "    print(w.dtype)\n",
    "print(ln)"
   ]
  },
  {
   "cell_type": "code",
   "execution_count": 7,
   "metadata": {},
   "outputs": [
    {
     "name": "stdout",
     "output_type": "stream",
     "text": [
      "[540000, 1080000, 180000, 9000, 270]\n",
      "14474184\n",
      "ok\n",
      "[1800, 600, 300, 30, 9]\n",
      "21936\n",
      "ok\n"
     ]
    },
    {
     "data": {
      "text/plain": [
       "True"
      ]
     },
     "execution_count": 7,
     "metadata": {},
     "output_type": "execute_result"
    }
   ],
   "source": [
    "import struct\n",
    "\n",
    "def save_params(params, name):\n",
    "    ret = False\n",
    "    nb = len(params)\n",
    "    n_params = [p.size for p in params]\n",
    "    fmt=\"<I\" + \"I\"*nb + \"\".join([\"d\"*n for n in n_params])\n",
    "    data = [nb] + n_params\n",
    "    for p in params:\n",
    "        data += p.flatten().tolist()\n",
    "    print(n_params)\n",
    "\n",
    "    raw = struct.pack(fmt, *data)\n",
    "    print(len(raw))\n",
    "    with open(name, \"wb\") as f:\n",
    "        f.write(raw)\n",
    "        ret = True\n",
    "        print(\"ok\")\n",
    "    return ret\n",
    "\n",
    "W=mlp.get_weights()\n",
    "err = count_errors(h, e)\n",
    "save_params(W, \"weights_\"+str(err)+\"-577.params\")\n",
    "b=mlp.get_bias()\n",
    "b = mlp._b[1:]\n",
    "save_params(b, \"bias_\"+str(err)+\"-577.params\")\n"
   ]
  },
  {
   "cell_type": "code",
   "execution_count": 23,
   "metadata": {},
   "outputs": [
    {
     "name": "stdout",
     "output_type": "stream",
     "text": [
      "6\n"
     ]
    }
   ],
   "source": [
    "b = mlp._b\n",
    "print(len(b))"
   ]
  },
  {
   "cell_type": "code",
   "execution_count": 29,
   "metadata": {},
   "outputs": [
    {
     "data": {
      "image/png": "[encoded data removed]",
      "text/plain": [
       "<matplotlib.figure.Figure at 0x7f5168d17748>"
      ]
     },
     "metadata": {},
     "output_type": "display_data"
    },
    {
     "name": "stdout",
     "output_type": "stream",
     "text": [
      "{'iterations': 1000, 'cost_function': 0.031307411466539793}\n",
      "[[ 0.01201341  0.98092967  0.98092663  0.02404195]\n",
      " [ 0.98798659  0.01907033  0.01907337  0.97595805]]\n",
      "[array([[-2.40378742,  2.05154928],\n",
      "       [ 1.09713928,  1.09693386],\n",
      "       [ 2.05046244, -2.40358981]]), array([[ 2.57638752,  0.99113136,  2.57718917],\n",
      "       [-2.60126558, -0.77456271, -2.6004823 ]])]\n"
     ]
    },
    {
     "data": {
      "image/png": "[encoded data removed]",
      "text/plain": [
       "<matplotlib.figure.Figure at 0x7f5168c3dcc0>"
      ]
     },
     "metadata": {},
     "output_type": "display_data"
    },
    {
     "name": "stdout",
     "output_type": "stream",
     "text": [
      "{'iterations': 1000, 'cost_function': 0.031190216120355926}\n",
      "[[ 0.01277621  0.9811383   0.98114161  0.02333379]\n",
      " [ 0.98722379  0.0188617   0.01885839  0.97666621]]\n",
      "[array([[-1.01205709, -1.01200878],\n",
      "       [ 2.08751553, -2.38975991],\n",
      "       [-2.38947784,  2.08601873]]), array([[-0.78583897,  2.64231438,  2.5581069 ],\n",
      "       [ 0.77756604, -2.57364066, -2.65805014]])]\n"
     ]
    },
    {
     "data": {
      "image/png": "[encoded data removed]",
      "text/plain": [
       "<matplotlib.figure.Figure at 0x7f5168c96da0>"
      ]
     },
     "metadata": {},
     "output_type": "display_data"
    },
    {
     "name": "stdout",
     "output_type": "stream",
     "text": [
      "{'iterations': 1000, 'cost_function': 0.03171314920552748}\n",
      "[[ 0.01947007  0.97421129  0.98964546  0.01990589]\n",
      " [ 0.98052993  0.02578871  0.01035454  0.98009411]]\n",
      "[array([[ 1.31420216, -1.30600905],\n",
      "       [-1.99140538, -2.44175863],\n",
      "       [-2.37396126, -1.90332763]]), array([[ 1.09790652, -2.56363219,  2.62272519],\n",
      "       [-1.17325226,  2.53073242, -2.49247235]])]\n"
     ]
    },
    {
     "data": {
      "image/png": "[encoded data removed]",
      "text/plain": [
       "<matplotlib.figure.Figure at 0x7f5168ab11d0>"
      ]
     },
     "metadata": {},
     "output_type": "display_data"
    },
    {
     "name": "stdout",
     "output_type": "stream",
     "text": [
      "{'iterations': 1000, 'cost_function': 0.031608250656706208}\n",
      "[[ 0.01040672  0.98043232  0.98045294  0.02558199]\n",
      " [ 0.98959328  0.01956768  0.01954706  0.97441801]]\n",
      "[array([[ 1.95863856, -2.4323066 ],\n",
      "       [ 1.29725725,  1.29857176],\n",
      "       [ 2.43125627, -1.95172388]]), array([[ 2.60363554,  1.11416206, -2.65643781],\n",
      "       [-2.49021505, -1.09446745,  2.43728256]])]\n"
     ]
    },
    {
     "data": {
      "image/png": "[encoded data removed]",
      "text/plain": [
       "<matplotlib.figure.Figure at 0x7f5168d9b860>"
      ]
     },
     "metadata": {},
     "output_type": "display_data"
    },
    {
     "name": "stdout",
     "output_type": "stream",
     "text": [
      "{'iterations': 1000, 'cost_function': 0.031173368398727086}\n",
      "[[ 0.01325791  0.98116572  0.98116461  0.02288485]\n",
      " [ 0.98674209  0.01883428  0.01883539  0.97711515]]\n",
      "[array([[ 0.94818634,  0.94787128],\n",
      "       [-2.11042432,  2.38249017],\n",
      "       [ 2.38249803, -2.1105769 ]]), array([[ 0.68033473, -2.55026254, -2.63855001],\n",
      "       [-0.79177884,  2.68207786,  2.59393157]])]\n"
     ]
    },
    {
     "data": {
      "image/png": "[encoded data removed]",
      "text/plain": [
       "<matplotlib.figure.Figure at 0x7f5168d9bdd8>"
      ]
     },
     "metadata": {},
     "output_type": "display_data"
    },
    {
     "name": "stdout",
     "output_type": "stream",
     "text": [
      "{'iterations': 1000, 'cost_function': 0.03154258548825048}\n",
      "[[ 0.01070599  0.98053425  0.98054138  0.02528557]\n",
      " [ 0.98929401  0.01946575  0.01945862  0.97471443]]\n",
      "[array([[ 2.42644979, -1.97438771],\n",
      "       [-1.97687282,  2.42683032],\n",
      "       [ 1.25642219,  1.25681975]]), array([[-2.50547448, -2.4802892 ,  1.03686812],\n",
      "       [ 2.60455426,  2.62973858, -1.08774409]])]\n"
     ]
    },
    {
     "data": {
      "image/png": "[encoded data removed]",
      "text/plain": [
       "<matplotlib.figure.Figure at 0x7f5168b591d0>"
      ]
     },
     "metadata": {},
     "output_type": "display_data"
    },
    {
     "name": "stdout",
     "output_type": "stream",
     "text": [
      "{'iterations': 1000, 'cost_function': 0.031525533033675182}\n",
      "[[ 0.01074898  0.98057629  0.98056179  0.02524762]\n",
      " [ 0.98925102  0.01942371  0.01943821  0.97475238]]\n",
      "[array([[ 1.97510636, -2.42520404],\n",
      "       [-1.25432208, -1.25347711],\n",
      "       [-2.42596987,  1.98011715]]), array([[ 2.6373461 , -1.08073471,  2.5626286 ],\n",
      "       [-2.47595591,  1.02462783, -2.55069231]])]\n"
     ]
    },
    {
     "data": {
      "image/png": "[encoded data removed]",
      "text/plain": [
       "<matplotlib.figure.Figure at 0x7f5168b595c0>"
      ]
     },
     "metadata": {},
     "output_type": "display_data"
    },
    {
     "name": "stdout",
     "output_type": "stream",
     "text": [
      "{'iterations': 1000, 'cost_function': 0.031683047301714236}\n",
      "[[ 0.01018743  0.98029666  0.98032557  0.02578303]\n",
      " [ 0.98981257  0.01970334  0.01967443  0.97421697]]\n",
      "[array([[-2.43573983,  1.93739017],\n",
      "       [ 1.94743329, -2.43717401],\n",
      "       [ 1.31728188,  1.31872773]]), array([[ 2.62528113,  2.58070129,  1.19489233],\n",
      "       [-2.45354582, -2.49815408, -1.102795  ]])]\n"
     ]
    },
    {
     "data": {
      "image/png": "[encoded data removed]",
      "text/plain": [
       "<matplotlib.figure.Figure at 0x7f5168e1c710>"
      ]
     },
     "metadata": {},
     "output_type": "display_data"
    },
    {
     "name": "stdout",
     "output_type": "stream",
     "text": [
      "{'iterations': 1000, 'cost_function': 0.029568589776941649}\n",
      "[[ 0.01511589  0.98320551  0.98320552  0.01904326]\n",
      " [ 0.98488411  0.01679449  0.01679448  0.98095674]]\n",
      "[array([[-1.68718666, -1.68717444],\n",
      "       [ 1.83309543,  1.83310216],\n",
      "       [ 2.30099652,  2.30099339]]), array([[-1.62268664,  1.73477196, -2.79082854],\n",
      "       [ 1.45111486, -1.79528538,  2.86262592]])]\n"
     ]
    },
    {
     "data": {
      "image/png": "[encoded data removed]",
      "text/plain": [
       "<matplotlib.figure.Figure at 0x7f5168d4edd8>"
      ]
     },
     "metadata": {},
     "output_type": "display_data"
    },
    {
     "name": "stdout",
     "output_type": "stream",
     "text": [
      "{'iterations': 1000, 'cost_function': 0.029539589789047232}\n",
      "[[ 0.01679547  0.98104616  0.98492497  0.01677683]\n",
      " [ 0.98320453  0.01895384  0.01507503  0.98322317]]\n",
      "[array([[-1.79884923,  1.79823306],\n",
      "       [ 1.70777996, -1.71099719],\n",
      "       [-2.30993664,  2.31112542]]), array([[-1.80202919,  1.54409123,  3.00612475],\n",
      "       [ 1.65069614, -1.6289642 , -2.64412463]])]\n"
     ]
    },
    {
     "data": {
      "image/png": "[encoded data removed]",
      "text/plain": [
       "<matplotlib.figure.Figure at 0x7f5168c15c50>"
      ]
     },
     "metadata": {},
     "output_type": "display_data"
    },
    {
     "name": "stdout",
     "output_type": "stream",
     "text": [
      "{'iterations': 1000, 'cost_function': 0.030909668962820103}\n",
      "[[ 0.0182439   0.98169159  0.98170459  0.01828506]\n",
      " [ 0.9817561   0.01830841  0.01829541  0.98171494]]\n",
      "[array([[-2.29039539,  2.29288139],\n",
      "       [-2.27465684,  2.27075963],\n",
      "       [-0.32154128,  0.36092221]]), array([[-2.72086854,  2.66959205,  0.15999313],\n",
      "       [ 2.69089272, -2.65182681, -0.25901182]])]\n"
     ]
    },
    {
     "data": {
      "image/png": "[encoded data removed]",
      "text/plain": [
       "<matplotlib.figure.Figure at 0x7f5168b15240>"
      ]
     },
     "metadata": {},
     "output_type": "display_data"
    },
    {
     "name": "stdout",
     "output_type": "stream",
     "text": [
      "{'iterations': 1000, 'cost_function': 0.030990839306405914}\n",
      "[[ 0.01813026  0.98143277  0.98141819  0.01828576]\n",
      " [ 0.98186974  0.01856723  0.01858181  0.98171424]]\n",
      "[array([[-2.29004145,  2.28505435],\n",
      "       [-2.28251732,  2.28899117],\n",
      "       [-0.12602234, -0.07785231]]), array([[ 2.6566979 , -2.65259994, -0.16570456],\n",
      "       [-2.7076025 ,  2.70871881,  0.10802586]])]\n"
     ]
    },
    {
     "data": {
      "image/png": "[encoded data removed]",
      "text/plain": [
       "<matplotlib.figure.Figure at 0x7f5168b9b710>"
      ]
     },
     "metadata": {},
     "output_type": "display_data"
    },
    {
     "name": "stdout",
     "output_type": "stream",
     "text": [
      "{'iterations': 1000, 'cost_function': 0.031172163993440746}\n",
      "[[ 0.01323903  0.98116568  0.98116371  0.0228989 ]\n",
      " [ 0.98676097  0.01883432  0.01883629  0.9771011 ]]\n",
      "[array([[-2.10901333,  2.38250007],\n",
      "       [-0.95006233, -0.94990313],\n",
      "       [-2.38264612,  2.10972493]]), array([[-2.61208829, -0.73383215,  2.5480982 ],\n",
      "       [ 2.62017598,  0.74351283, -2.6841455 ]])]\n"
     ]
    },
    {
     "data": {
      "image/png": "[encoded data removed]",
      "text/plain": [
       "<matplotlib.figure.Figure at 0x7f5168abd828>"
      ]
     },
     "metadata": {},
     "output_type": "display_data"
    },
    {
     "name": "stdout",
     "output_type": "stream",
     "text": [
      "{'iterations': 1000, 'cost_function': 0.032040197611202727}\n",
      "[[ 0.01980879  0.99050958  0.97326637  0.0205133 ]\n",
      " [ 0.98019121  0.00949042  0.02673363  0.9794867 ]]\n",
      "[array([[-2.46362625, -1.95001825],\n",
      "       [ 1.42435576, -1.41739194],\n",
      "       [ 1.80506112,  2.35899248]]), array([[-2.55030002, -1.29993761, -2.61261471],\n",
      "       [ 2.50032809,  1.30450224,  2.46367636]])]\n"
     ]
    },
    {
     "data": {
      "image/png": "[encoded data removed]",
      "text/plain": [
       "<matplotlib.figure.Figure at 0x7f5168cd7978>"
      ]
     },
     "metadata": {},
     "output_type": "display_data"
    },
    {
     "name": "stdout",
     "output_type": "stream",
     "text": [
      "{'iterations': 1000, 'cost_function': 0.031513758450649069}\n",
      "[[ 0.01084562  0.98057713  0.98059074  0.02515126]\n",
      " [ 0.98915438  0.01942287  0.01940926  0.97484874]]\n",
      "[array([[ 1.23841713,  1.2391942 ],\n",
      "       [-1.98703322,  2.42462157],\n",
      "       [ 2.42389936, -1.98229619]]), array([[ 0.94829548, -2.58994826, -2.57924959],\n",
      "       [-1.13555925,  2.52750395,  2.53819839]])]\n"
     ]
    }
   ],
   "source": [
    "from mlp import MultiLayerPerceptron\n",
    "import numpy as np\n",
    "#mlp = MultiLayerPerceptron(L=1, n=[2, 1], g=[\"sigmoid\"], alpha=0.1)\n",
    "\n",
    "X = np.array([[0, 0],\n",
    "              [0, 1],\n",
    "              [1, 0],\n",
    "              [1, 1]])\n",
    "\n",
    "Y = np.array([[0, 1],\n",
    "              [1, 0],\n",
    "              [1, 0],\n",
    "              [0, 1]])\n",
    "#Y = np.array([[0],\n",
    "#              [1],\n",
    "#              [1],\n",
    "#              [0]])\n",
    "\n",
    "for i in range(15):\n",
    "    mlp = MultiLayerPerceptron(L=2, n=[2, 3, 2], g=[\"tanh\", \"tanh\"], alpha=1, w_rand_factor=1)\n",
    "    mlp.use_regularization(lambd=0.01)\n",
    "    #mlp.use_rmsprop()\n",
    "    res = mlp.learning(X.T, Y.T, 4, max_iter=1000, plot=True)\n",
    "    print(res)\n",
    "    print(mlp.get_output())\n",
    "    print(mlp.get_weights())\n",
    "#mlp.set_all_training_examples(X.T, Y.T, 4)\n",
    "#mlp.prepare()\n",
    "#print(mlp.propagate())\n",
    "#for i in range(100):\n",
    "#    print(mlp.back_propagation())\n",
    "#    mlp.propagate()\n",
    "#print(mlp.propagate())\n"
   ]
  },
  {
   "cell_type": "code",
   "execution_count": 10,
   "metadata": {},
   "outputs": [
    {
     "name": "stdout",
     "output_type": "stream",
     "text": [
      "[[ 0.06521739]\n",
      " [ 0.02173913]\n",
      " [ 0.89130435]\n",
      " [ 0.02173913]]\n",
      "1.0\n"
     ]
    }
   ],
   "source": [
    "import numpy as np\n",
    "\n",
    "a = np.ones((4,1))\n",
    "a[0] = 3\n",
    "a[2] = 41\n",
    "res = np.zeros((4,1))\n",
    "res = a / np.sum(a)\n",
    "print(res)\n",
    "print(np.sum(res))"
   ]
  },
  {
   "cell_type": "code",
   "execution_count": 20,
   "metadata": {},
   "outputs": [
    {
     "data": {
      "text/plain": [
       "0.0048747400000000007"
      ]
     },
     "execution_count": 20,
     "metadata": {},
     "output_type": "execute_result"
    }
   ],
   "source": [
    "np.sum(np.array([ 0.00015156,  0.00015268,  0.00015293,  0.00015146,  0.0001536,   0.0001529,\n",
    "   0.0001529,   0.0001523,   0.00014965,  0.0001527,   0.00015024,  0.00015229,\n",
    "   0.00015458  ,0.00015043  ,0.00015286,  0.00015533,  0.00015488,  0.00015392,\n",
    "   0.00015377 , 0.0001549 ,  0.0001537 ,  0.00015145 , 0.00014796 , 0.00014766,\n",
    "   0.00014974 , 0.00015326  ,0.00014838,  0.00015275 , 0.00015331,  0.00015493,\n",
    "   0.0001541  , 0.00015162]))"
   ]
  },
  {
   "cell_type": "code",
   "execution_count": 16,
   "metadata": {},
   "outputs": [
    {
     "name": "stdout",
     "output_type": "stream",
     "text": [
      "[[ 1 -2  3  4]\n",
      " [ 5  6 -7  8]]\n",
      "[[1 0 3 4]\n",
      " [5 6 0 8]]\n",
      "[ 6  4 -4 12]\n",
      "[ 6  4 -4 12]\n",
      "n= False\n",
      "[ True  True  True  True]\n"
     ]
    }
   ],
   "source": [
    "a=np.array([[1,-2,3,4],[5,6,-7,8]])\n",
    "b = np.array(a)\n",
    "a[:,1:].T\n",
    "b\n",
    "print(a)\n",
    "print(np.maximum(a,0))\n",
    "print(np.sum(a,axis=0))\n",
    "s=np.sum(a,axis=0)\n",
    "print(\"n=\",all_axis_equal(a))\n",
    "a[a>0]=1\n",
    "print(np.all(a,axis=0))"
   ]
  },
  {
   "cell_type": "code",
   "execution_count": null,
   "metadata": {},
   "outputs": [],
   "source": []
  }
 ],
 "metadata": {
  "kernelspec": {
   "display_name": "Python 3",
   "language": "python",
   "name": "python3"
  },
  "language_info": {
   "codemirror_mode": {
    "name": "ipython",
    "version": 3
   },
   "file_extension": ".py",
   "mimetype": "text/x-python",
   "name": "python",
   "nbconvert_exporter": "python",
   "pygments_lexer": "ipython3",
   "version": "3.5.2"
  }
 },
 "nbformat": 4,
 "nbformat_minor": 2
}
